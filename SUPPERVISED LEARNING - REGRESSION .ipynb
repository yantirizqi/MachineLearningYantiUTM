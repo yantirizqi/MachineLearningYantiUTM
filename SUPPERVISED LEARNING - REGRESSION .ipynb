{
 "cells": [
  {
   "cell_type": "markdown",
   "metadata": {},
   "source": [
    "Date : 2/09/2018 \n",
    "# MACHINE LEARNING\n",
    "\n",
    "## SUPPERVISED LEARNING - REGRESSION\n",
    " - merupakan Prediksi dengan outputnya adalah bilangan yang kontinyus \n",
    "\n",
    "\n",
    "## LINEAR REGRESSION\n",
    "- dalam linear regression terdapat Simple Linier Regression dan Multivariate Regression\n",
    "\n",
    "## SIMPLE LINEAR REGRESSION\n",
    "- merupakan model yang dignakan jika sebuah data memiliki hanya satu fitur saja atau satu dimensi, dengan rumus sebagai berikut : \n",
    "\\begin{eqnarray}\n",
    "f:\\Re \\rightarrow \\Re \\quad f(x;w)&=&w_0+w_1x \\\\\n",
    "\\end{eqnarray}\n",
    "\n",
    "keterangan : dimana $w_0$ disebut sebagai intercept dan $w_1....w_n$ disebut sebagai koefisien\n",
    "\n",
    "- Dalam Simple Linear Regression, diperlukan untuk mencari Intercept dan Koefisien, yang di dapat dari perhitungan covariance  dan variance sebagai berikut :\n",
    "\\begin{eqnarray}\n",
    "var(x)&=&\\frac{\\sum_{i=1}^{n}(x_i-\\bar{x})^2}{n-1}\\\\\n",
    "cov(x,y)&=&\\frac{\\sum_{i=1}^{n}(x_i-\\bar{x})(y_i-\\bar{y})}{n-1}\\\\\n",
    "\\end{eqnarray}\n",
    "\n",
    "koefisien dan intercept dari model regressi linear adalah :\n",
    "\\begin{eqnarray}\n",
    "w_1&=&\\frac{cov(x,y)}{var(x)}\\\\\n",
    "w_0&=&\\bar{y}-w_1\\bar{x}\n",
    "\\end{eqnarray}"
   ]
  },
  {
   "cell_type": "markdown",
   "metadata": {},
   "source": [
    "## MULTIVARIATE LINEAR REGRESSION\n",
    "\n",
    "- Digunakan apalabila data yang digunakan mempunyai banyak fitur atau dimensi, dengan formula sebagai berikut :\n",
    "$f(x;w)=w_0+w_1x_1+...+w_dx_d$\n",
    "\n",
    "Pencarian paramater tersebut membutuhkan :\n",
    "- loss function\n",
    "- meminimalkan loss function\n",
    "\n",
    "Loss Function :\n",
    "\\begin{eqnarray}\n",
    "J_n(w)=\\frac{1}{n}\\sum_{i=1}^{n}(y_i-f(x_i;w))^2\n",
    "\\end{eqnarray}"
   ]
  },
  {
   "cell_type": "markdown",
   "metadata": {},
   "source": [
    "## GRADIENT DESCENT \n",
    "\n",
    "Untuk meminimalkan error atau agar error hampir mendaketai nol, maka :\n",
    "\\begin{eqnarray}\n",
    "w&=&(X^TX)^{-1}X^Ty\n",
    "\\end{eqnarray}\n"
   ]
  }
 ],
 "metadata": {
  "kernelspec": {
   "display_name": "Python 3",
   "language": "python",
   "name": "python3"
  },
  "language_info": {
   "codemirror_mode": {
    "name": "ipython",
    "version": 3
   },
   "file_extension": ".py",
   "mimetype": "text/x-python",
   "name": "python",
   "nbconvert_exporter": "python",
   "pygments_lexer": "ipython3",
   "version": "3.6.4"
  }
 },
 "nbformat": 4,
 "nbformat_minor": 2
}
